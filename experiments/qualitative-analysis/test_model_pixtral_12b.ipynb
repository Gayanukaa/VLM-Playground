{
 "cells": [
  {
   "cell_type": "code",
   "execution_count": 1,
   "metadata": {},
   "outputs": [
    {
     "data": {
      "text/plain": [
       "True"
      ]
     },
     "execution_count": 1,
     "metadata": {},
     "output_type": "execute_result"
    }
   ],
   "source": [
    "import os\n",
    "from dotenv import load_dotenv\n",
    "import json\n",
    "\n",
    "load_dotenv()"
   ]
  },
  {
   "cell_type": "code",
   "execution_count": 2,
   "metadata": {},
   "outputs": [],
   "source": [
    "api_key = os.getenv(\"MISTRAL_API_KEY\")"
   ]
  },
  {
   "cell_type": "code",
   "execution_count": 3,
   "metadata": {},
   "outputs": [],
   "source": [
    "import requests\n",
    "\n",
    "api_url = 'https://api.mistral.ai/v1/chat/completions'\n",
    "headers = {\n",
    "    'Authorization': f'Bearer {api_key}',\n",
    "    'Content-Type': 'application/json'\n",
    "}"
   ]
  },
  {
   "cell_type": "code",
   "execution_count": 4,
   "metadata": {},
   "outputs": [],
   "source": [
    "import base64\n",
    "\n",
    "def encode_image_to_base64(image_path):\n",
    "    with open(image_path, 'rb') as image_file:\n",
    "        return base64.b64encode(image_file.read()).decode('utf-8')"
   ]
  },
  {
   "cell_type": "markdown",
   "metadata": {},
   "source": [
    "##### 1. Image Captioning (Descriptive Ability)"
   ]
  },
  {
   "cell_type": "code",
   "execution_count": 5,
   "metadata": {},
   "outputs": [
    {
     "name": "stdout",
     "output_type": "stream",
     "text": [
      "{\n",
      "    \"id\": \"8cd7bd2a66dc4e05a70ebbf8276a78a7\",\n",
      "    \"object\": \"chat.completion\",\n",
      "    \"created\": 1742636733,\n",
      "    \"model\": \"pixtral-12b-2409\",\n",
      "    \"choices\": [\n",
      "        {\n",
      "            \"index\": 0,\n",
      "            \"message\": {\n",
      "                \"role\": \"assistant\",\n",
      "                \"tool_calls\": null,\n",
      "                \"content\": \"The farmer is operating a tractor in a wheat field, likely during the harvesting process.\"\n",
      "            },\n",
      "            \"finish_reason\": \"stop\"\n",
      "        }\n",
      "    ],\n",
      "    \"usage\": {\n",
      "        \"prompt_tokens\": 3392,\n",
      "        \"total_tokens\": 3409,\n",
      "        \"completion_tokens\": 17\n",
      "    }\n",
      "}\n"
     ]
    }
   ],
   "source": [
    "image_path = 'images\\Picture1.jpg'\n",
    "image_base64 = encode_image_to_base64(image_path)\n",
    "\n",
    "data = {\n",
    "    'model': 'pixtral-12b-2409',\n",
    "    'messages': [\n",
    "        {\n",
    "            'role': 'user',\n",
    "            'content': [\n",
    "                {'type': 'text', 'text': 'What is the farmer doing in the image?'},\n",
    "                {'type': 'image_url', 'image_url': {'url': f'data:image/jpeg;base64,{image_base64}'}},\n",
    "            ]\n",
    "        }\n",
    "    ]\n",
    "}\n",
    "\n",
    "response = requests.post(api_url, headers=headers, json=data)\n",
    "print(json.dumps(response.json(), indent=4))"
   ]
  },
  {
   "cell_type": "code",
   "execution_count": 6,
   "metadata": {},
   "outputs": [
    {
     "name": "stdout",
     "output_type": "stream",
     "text": [
      "{\n",
      "    \"id\": \"cf7de8799bef4abca237854ac8286d1e\",\n",
      "    \"object\": \"chat.completion\",\n",
      "    \"created\": 1742636748,\n",
      "    \"model\": \"pixtral-12b-2409\",\n",
      "    \"choices\": [\n",
      "        {\n",
      "            \"index\": 0,\n",
      "            \"message\": {\n",
      "                \"role\": \"assistant\",\n",
      "                \"tool_calls\": null,\n",
      "                \"content\": \"In the image, a man is seen operating an orange tractor in a field of golden wheat. The tractor, equipped with a red plow, is in the process of harvesting the wheat. The man, dressed in a blue shirt and a white hat, is seated on the tractor, which is positioned in the center of the image. The background of the image is filled with trees under a clear blue sky. The image captures the essence of agricultural life, with the man, the tractor, and the wheat field as the main subjects.\"\n",
      "            },\n",
      "            \"finish_reason\": \"stop\"\n",
      "        }\n",
      "    ],\n",
      "    \"usage\": {\n",
      "        \"prompt_tokens\": 3393,\n",
      "        \"total_tokens\": 3500,\n",
      "        \"completion_tokens\": 107\n",
      "    }\n",
      "}\n"
     ]
    }
   ],
   "source": [
    "image_path = 'images\\Picture1.jpg'\n",
    "image_base64 = encode_image_to_base64(image_path)\n",
    "\n",
    "data = {\n",
    "    'model': 'pixtral-12b-2409',\n",
    "    'messages': [\n",
    "        {\n",
    "            'role': 'user',\n",
    "            'content': [\n",
    "                {'type': 'text', 'text': 'Describe the background of the image in detail.'},\n",
    "                {'type': 'image_url', 'image_url': {'url': f'data:image/jpeg;base64,{image_base64}'}}\n",
    "            ]\n",
    "        }\n",
    "    ]\n",
    "}\n",
    "\n",
    "response = requests.post(api_url, headers=headers, json=data)\n",
    "print(json.dumps(response.json(), indent=4))"
   ]
  },
  {
   "cell_type": "markdown",
   "metadata": {},
   "source": [
    "##### 2. Visual Question Answering (VQA)"
   ]
  },
  {
   "cell_type": "code",
   "execution_count": 7,
   "metadata": {},
   "outputs": [
    {
     "name": "stdout",
     "output_type": "stream",
     "text": [
      "{\n",
      "    \"id\": \"be417cf2cb454b5394b0c5536362d150\",\n",
      "    \"object\": \"chat.completion\",\n",
      "    \"created\": 1742636759,\n",
      "    \"model\": \"pixtral-12b-2409\",\n",
      "    \"choices\": [\n",
      "        {\n",
      "            \"index\": 0,\n",
      "            \"message\": {\n",
      "                \"role\": \"assistant\",\n",
      "                \"tool_calls\": null,\n",
      "                \"content\": \"The child's raincoat is yellow.\"\n",
      "            },\n",
      "            \"finish_reason\": \"stop\"\n",
      "        }\n",
      "    ],\n",
      "    \"usage\": {\n",
      "        \"prompt_tokens\": 2808,\n",
      "        \"total_tokens\": 2817,\n",
      "        \"completion_tokens\": 9\n",
      "    }\n",
      "}\n"
     ]
    }
   ],
   "source": [
    "image_path = 'images\\Picture2.jpg'\n",
    "image_base64 = encode_image_to_base64(image_path)\n",
    "\n",
    "data = {\n",
    "    'model': 'pixtral-12b-2409',\n",
    "    'messages': [\n",
    "        {\n",
    "            'role': 'user',\n",
    "            'content': [\n",
    "                {'type': 'text', 'text': 'What color is the child\\'s raincoat?'},\n",
    "                {'type': 'image_url', 'image_url': {'url': f'data:image/jpeg;base64,{image_base64}'}},\n",
    "            ]\n",
    "        }\n",
    "    ]\n",
    "}\n",
    "\n",
    "response = requests.post(api_url, headers=headers, json=data)\n",
    "print(json.dumps(response.json(), indent=4))\n"
   ]
  },
  {
   "cell_type": "code",
   "execution_count": 8,
   "metadata": {},
   "outputs": [
    {
     "name": "stdout",
     "output_type": "stream",
     "text": [
      "{\n",
      "    \"id\": \"bf02cc607d164a169dc743442e1ae390\",\n",
      "    \"object\": \"chat.completion\",\n",
      "    \"created\": 1742636764,\n",
      "    \"model\": \"pixtral-12b-2409\",\n",
      "    \"choices\": [\n",
      "        {\n",
      "            \"index\": 0,\n",
      "            \"message\": {\n",
      "                \"role\": \"assistant\",\n",
      "                \"tool_calls\": null,\n",
      "                \"content\": \"The child is not playing alone; they are accompanied by two small dogs wearing raincoats.\"\n",
      "            },\n",
      "            \"finish_reason\": \"stop\"\n",
      "        }\n",
      "    ],\n",
      "    \"usage\": {\n",
      "        \"prompt_tokens\": 2813,\n",
      "        \"total_tokens\": 2832,\n",
      "        \"completion_tokens\": 19\n",
      "    }\n",
      "}\n"
     ]
    }
   ],
   "source": [
    "image_path = 'images\\Picture2.jpg'\n",
    "image_base64 = encode_image_to_base64(image_path)\n",
    "\n",
    "data = {\n",
    "    'model': 'pixtral-12b-2409',\n",
    "    'messages': [\n",
    "        {\n",
    "            'role': 'user',\n",
    "            'content': [\n",
    "                {'type': 'text', 'text': 'Is the child in the image playing alone or is there an animal nearby?'},\n",
    "                {'type': 'image_url', 'image_url': {'url': f'data:image/jpeg;base64,{image_base64}'}},\n",
    "            ]\n",
    "        }\n",
    "    ]\n",
    "}\n",
    "\n",
    "response = requests.post(api_url, headers=headers, json=data)\n",
    "print(json.dumps(response.json(), indent=4))"
   ]
  },
  {
   "cell_type": "markdown",
   "metadata": {},
   "source": [
    "##### 3. Object detection and Recognition"
   ]
  },
  {
   "cell_type": "code",
   "execution_count": 10,
   "metadata": {},
   "outputs": [
    {
     "name": "stdout",
     "output_type": "stream",
     "text": [
      "{\n",
      "    \"id\": \"b8a08b497b1841778f2042112423b471\",\n",
      "    \"object\": \"chat.completion\",\n",
      "    \"created\": 1742636784,\n",
      "    \"model\": \"pixtral-12b-2409\",\n",
      "    \"choices\": [\n",
      "        {\n",
      "            \"index\": 0,\n",
      "            \"message\": {\n",
      "                \"role\": \"assistant\",\n",
      "                \"tool_calls\": null,\n",
      "                \"content\": \"I can identify six distinct objects on the desk: two laptops, a potted plant, a cup with a lid, a spiral-bound notebook, and a pen.\"\n",
      "            },\n",
      "            \"finish_reason\": \"stop\"\n",
      "        }\n",
      "    ],\n",
      "    \"usage\": {\n",
      "        \"prompt_tokens\": 3150,\n",
      "        \"total_tokens\": 3184,\n",
      "        \"completion_tokens\": 34\n",
      "    }\n",
      "}\n"
     ]
    }
   ],
   "source": [
    "image_path = 'images\\Picture3.jpg'\n",
    "image_base64 = encode_image_to_base64(image_path)\n",
    "\n",
    "data = {\n",
    "    'model': 'pixtral-12b-2409',\n",
    "    'messages': [\n",
    "        {\n",
    "            'role': 'user',\n",
    "            'content': [\n",
    "                {'type': 'text', 'text': 'How many distinct objects can you identify on the desk?'},\n",
    "                {'type': 'image_url', 'image_url': {'url': f'data:image/jpeg;base64,{image_base64}'}},\n",
    "            ]\n",
    "        }\n",
    "    ]\n",
    "}\n",
    "\n",
    "response = requests.post(api_url, headers=headers, json=data)\n",
    "print(json.dumps(response.json(), indent=4))\n"
   ]
  },
  {
   "cell_type": "code",
   "execution_count": 11,
   "metadata": {},
   "outputs": [
    {
     "name": "stdout",
     "output_type": "stream",
     "text": [
      "{\n",
      "    \"id\": \"0c4a54b2f18144e0aa5ddfef051d26b0\",\n",
      "    \"object\": \"chat.completion\",\n",
      "    \"created\": 1742636789,\n",
      "    \"model\": \"pixtral-12b-2409\",\n",
      "    \"choices\": [\n",
      "        {\n",
      "            \"index\": 0,\n",
      "            \"message\": {\n",
      "                \"role\": \"assistant\",\n",
      "                \"tool_calls\": null,\n",
      "                \"content\": \"Yes, there are two laptops in the image.\"\n",
      "            },\n",
      "            \"finish_reason\": \"stop\"\n",
      "        }\n",
      "    ],\n",
      "    \"usage\": {\n",
      "        \"prompt_tokens\": 3149,\n",
      "        \"total_tokens\": 3160,\n",
      "        \"completion_tokens\": 11\n",
      "    }\n",
      "}\n"
     ]
    }
   ],
   "source": [
    "image_path = 'images\\Picture3.jpg'\n",
    "image_base64 = encode_image_to_base64(image_path)\n",
    "\n",
    "data = {\n",
    "    'model': 'pixtral-12b-2409',\n",
    "    'messages': [\n",
    "        {\n",
    "            'role': 'user',\n",
    "            'content': [\n",
    "                {'type': 'text', 'text': 'Can you detect any electronic devices in the image?'},\n",
    "                {'type': 'image_url', 'image_url': {'url': f'data:image/jpeg;base64,{image_base64}'}},\n",
    "            ]\n",
    "        }\n",
    "    ]\n",
    "}\n",
    "\n",
    "response = requests.post(api_url, headers=headers, json=data)\n",
    "print(json.dumps(response.json(), indent=4))"
   ]
  },
  {
   "cell_type": "markdown",
   "metadata": {},
   "source": [
    "##### 4. Scene Understanding & Context Awareness"
   ]
  },
  {
   "cell_type": "code",
   "execution_count": 12,
   "metadata": {},
   "outputs": [
    {
     "name": "stdout",
     "output_type": "stream",
     "text": [
      "{\n",
      "    \"id\": \"f547bb7048f24fa58f8ae1feb8b44a54\",\n",
      "    \"object\": \"chat.completion\",\n",
      "    \"created\": 1742636796,\n",
      "    \"model\": \"pixtral-12b-2409\",\n",
      "    \"choices\": [\n",
      "        {\n",
      "            \"index\": 0,\n",
      "            \"message\": {\n",
      "                \"role\": \"assistant\",\n",
      "                \"tool_calls\": null,\n",
      "                \"content\": \"The car should stop, as indicated by the red traffic light in the image.\"\n",
      "            },\n",
      "            \"finish_reason\": \"stop\"\n",
      "        }\n",
      "    ],\n",
      "    \"usage\": {\n",
      "        \"prompt_tokens\": 3406,\n",
      "        \"total_tokens\": 3422,\n",
      "        \"completion_tokens\": 16\n",
      "    }\n",
      "}\n"
     ]
    }
   ],
   "source": [
    "image_path = 'images\\Picture4.jpg'\n",
    "image_base64 = encode_image_to_base64(image_path)\n",
    "\n",
    "data = {\n",
    "    'model': 'pixtral-12b-2409',\n",
    "    'messages': [\n",
    "        {\n",
    "            'role': 'user',\n",
    "            'content': [\n",
    "                {'type': 'text', 'text': 'Should the car stop or continue moving in this image?'},\n",
    "                {'type': 'image_url', 'image_url': {'url': f'data:image/jpeg;base64,{image_base64}'}},\n",
    "            ]\n",
    "        }\n",
    "    ]\n",
    "}\n",
    "\n",
    "response = requests.post(api_url, headers=headers, json=data)\n",
    "print(json.dumps(response.json(), indent=4))"
   ]
  },
  {
   "cell_type": "code",
   "execution_count": 13,
   "metadata": {},
   "outputs": [
    {
     "name": "stdout",
     "output_type": "stream",
     "text": [
      "{\n",
      "    \"id\": \"382a5767098b4317b2089f9faf859973\",\n",
      "    \"object\": \"chat.completion\",\n",
      "    \"created\": 1742636827,\n",
      "    \"model\": \"pixtral-12b-2409\",\n",
      "    \"choices\": [\n",
      "        {\n",
      "            \"index\": 0,\n",
      "            \"message\": {\n",
      "                \"role\": \"assistant\",\n",
      "                \"tool_calls\": null,\n",
      "                \"content\": \"The red traffic light indicates that vehicles must stop, as seen with the white car halted at the crosswalk.\"\n",
      "            },\n",
      "            \"finish_reason\": \"stop\"\n",
      "        }\n",
      "    ],\n",
      "    \"usage\": {\n",
      "        \"prompt_tokens\": 3405,\n",
      "        \"total_tokens\": 3427,\n",
      "        \"completion_tokens\": 22\n",
      "    }\n",
      "}\n"
     ]
    }
   ],
   "source": [
    "image_path = 'images\\Picture4.jpg'\n",
    "image_base64 = encode_image_to_base64(image_path)\n",
    "\n",
    "data = {\n",
    "    'model': 'pixtral-12b-2409',\n",
    "    'messages': [\n",
    "        {\n",
    "            'role': 'user',\n",
    "            'content': [\n",
    "                {'type': 'image_url', 'image_url': {'url': f'data:image/jpeg;base64,{image_base64}'}},\n",
    "                {'type': 'text', 'text': 'What does the red traffic light indicate for vehicles?'}\n",
    "            ]\n",
    "        }\n",
    "    ]\n",
    "}\n",
    "\n",
    "response = requests.post(api_url, headers=headers, json=data)\n",
    "print(json.dumps(response.json(), indent=4))"
   ]
  },
  {
   "cell_type": "markdown",
   "metadata": {},
   "source": [
    "##### 5. Text-Image Matching (Multimodal Consistency)"
   ]
  },
  {
   "cell_type": "code",
   "execution_count": 14,
   "metadata": {},
   "outputs": [
    {
     "name": "stdout",
     "output_type": "stream",
     "text": [
      "{\n",
      "    \"id\": \"d9dd58e093aa4b4092a82a9e2862da7b\",\n",
      "    \"object\": \"chat.completion\",\n",
      "    \"created\": 1742636839,\n",
      "    \"model\": \"pixtral-12b-2409\",\n",
      "    \"choices\": [\n",
      "        {\n",
      "            \"index\": 0,\n",
      "            \"message\": {\n",
      "                \"role\": \"assistant\",\n",
      "                \"tool_calls\": null,\n",
      "                \"content\": \"The caption that better describes the image is (A) \\\"A woman enjoying a peaceful reading session outdoors.\\\" This is evident from the visual content, which shows a woman sitting on a blanket in a park, engrossed in reading a book titled \\\"En agosto nos vemos\\\" by Gabriel Garc\\u00eda M\\u00e1rquez.\"\n",
      "            },\n",
      "            \"finish_reason\": \"stop\"\n",
      "        }\n",
      "    ],\n",
      "    \"usage\": {\n",
      "        \"prompt_tokens\": 2831,\n",
      "        \"total_tokens\": 2892,\n",
      "        \"completion_tokens\": 61\n",
      "    }\n",
      "}\n"
     ]
    }
   ],
   "source": [
    "image_path = 'images\\Picture5.jpg'\n",
    "image_base64 = encode_image_to_base64(image_path)\n",
    "\n",
    "data = {\n",
    "    'model': 'pixtral-12b-2409',\n",
    "    'messages': [\n",
    "        {\n",
    "            'role': 'user',\n",
    "            'content': [\n",
    "                {'type': 'image_url', 'image_url': {'url': f'data:image/jpeg;base64,{image_base64}'}},\n",
    "                {'type': 'text', 'text': 'Which caption better describes the image: (A) \\\"A woman enjoying a peaceful reading session outdoors\\\" or (B) \\\"A woman playing soccer in the park\\\"?'}\n",
    "            ]\n",
    "        }\n",
    "    ]\n",
    "}\n",
    "\n",
    "response = requests.post(api_url, headers=headers, json=data)\n",
    "print(json.dumps(response.json(), indent=4))"
   ]
  },
  {
   "cell_type": "code",
   "execution_count": 16,
   "metadata": {},
   "outputs": [
    {
     "name": "stdout",
     "output_type": "stream",
     "text": [
      "{\n",
      "    \"id\": \"dc892531196c4e259c599a47eaee338b\",\n",
      "    \"object\": \"chat.completion\",\n",
      "    \"created\": 1742636861,\n",
      "    \"model\": \"pixtral-12b-2409\",\n",
      "    \"choices\": [\n",
      "        {\n",
      "            \"index\": 0,\n",
      "            \"message\": {\n",
      "                \"role\": \"assistant\",\n",
      "                \"tool_calls\": null,\n",
      "                \"content\": \"The image shows bright lighting and clear shadows, particularly under the trees and on the grass, indicating that it is a sunny day.\"\n",
      "            },\n",
      "            \"finish_reason\": \"stop\"\n",
      "        }\n",
      "    ],\n",
      "    \"usage\": {\n",
      "        \"prompt_tokens\": 2811,\n",
      "        \"total_tokens\": 2837,\n",
      "        \"completion_tokens\": 26\n",
      "    }\n",
      "}\n"
     ]
    }
   ],
   "source": [
    "image_path = 'images\\Picture5.jpg'\n",
    "image_base64 = encode_image_to_base64(image_path)\n",
    "\n",
    "data = {\n",
    "    'model': 'pixtral-12b-2409',\n",
    "    'messages': [\n",
    "        {\n",
    "            'role': 'user',\n",
    "            'content': [\n",
    "                {'type': 'image_url', 'image_url': {'url': f'data:image/jpeg;base64,{image_base64}'}},\n",
    "                {'type': 'text', 'text': 'What elements in this image indicate that it is a sunny day?'}\n",
    "            ]\n",
    "        }\n",
    "    ]\n",
    "}\n",
    "\n",
    "response = requests.post(api_url, headers=headers, json=data)\n",
    "print(json.dumps(response.json(), indent=4))"
   ]
  },
  {
   "cell_type": "markdown",
   "metadata": {},
   "source": [
    "##### 6. Optical Character Recognition (OCR) & Text-in-Image Understanding"
   ]
  },
  {
   "cell_type": "code",
   "execution_count": 17,
   "metadata": {},
   "outputs": [
    {
     "name": "stdout",
     "output_type": "stream",
     "text": [
      "{\n",
      "    \"id\": \"6326639089404bd795e4537ac7ac05e8\",\n",
      "    \"object\": \"chat.completion\",\n",
      "    \"created\": 1742636878,\n",
      "    \"model\": \"pixtral-12b-2409\",\n",
      "    \"choices\": [\n",
      "        {\n",
      "            \"index\": 0,\n",
      "            \"message\": {\n",
      "                \"role\": \"assistant\",\n",
      "                \"tool_calls\": null,\n",
      "                \"content\": \"The main headline of the newspaper is 'MEN WALK ON MOON'.\"\n",
      "            },\n",
      "            \"finish_reason\": \"stop\"\n",
      "        }\n",
      "    ],\n",
      "    \"usage\": {\n",
      "        \"prompt_tokens\": 2828,\n",
      "        \"total_tokens\": 2845,\n",
      "        \"completion_tokens\": 17\n",
      "    }\n",
      "}\n"
     ]
    }
   ],
   "source": [
    "image_path = 'images\\Picture6.jpg'\n",
    "image_base64 = encode_image_to_base64(image_path)\n",
    "\n",
    "data = {\n",
    "    'model': 'pixtral-12b-2409',\n",
    "    'messages': [\n",
    "        {\n",
    "            'role': 'user',\n",
    "            'content': [\n",
    "                {'type': 'image_url', 'image_url': {'url': f'data:image/jpeg;base64,{image_base64}'}},\n",
    "                {'type': 'text', 'text': 'What is the main headline of the newspaper?'}\n",
    "            ]\n",
    "        }\n",
    "    ]\n",
    "}\n",
    "\n",
    "response = requests.post(api_url, headers=headers, json=data)\n",
    "print(json.dumps(response.json(), indent=4))"
   ]
  },
  {
   "cell_type": "code",
   "execution_count": 18,
   "metadata": {},
   "outputs": [
    {
     "name": "stdout",
     "output_type": "stream",
     "text": [
      "{\n",
      "    \"id\": \"4652512ae3ae410bb6d397b54dc6e957\",\n",
      "    \"object\": \"chat.completion\",\n",
      "    \"created\": 1742636885,\n",
      "    \"model\": \"pixtral-12b-2409\",\n",
      "    \"choices\": [\n",
      "        {\n",
      "            \"index\": 0,\n",
      "            \"message\": {\n",
      "                \"role\": \"assistant\",\n",
      "                \"tool_calls\": null,\n",
      "                \"content\": \"The text suggests a historical event as it references the Apollo 11 moon landing, which is a well-documented historical achievement.\"\n",
      "            },\n",
      "            \"finish_reason\": \"stop\"\n",
      "        }\n",
      "    ],\n",
      "    \"usage\": {\n",
      "        \"prompt_tokens\": 2829,\n",
      "        \"total_tokens\": 2855,\n",
      "        \"completion_tokens\": 26\n",
      "    }\n",
      "}\n"
     ]
    }
   ],
   "source": [
    "image_path = 'images\\Picture6.jpg'\n",
    "image_base64 = encode_image_to_base64(image_path)\n",
    "\n",
    "data = {\n",
    "    'model': 'pixtral-12b-2409',\n",
    "    'messages': [\n",
    "        {\n",
    "            'role': 'user',\n",
    "            'content': [\n",
    "                {'type': 'image_url', 'image_url': {'url': f'data:image/jpeg;base64,{image_base64}'}},\n",
    "                {'type': 'text', 'text': 'Does the text suggest a historical or fictional event?'}\n",
    "            ]\n",
    "        }\n",
    "    ]\n",
    "}\n",
    "\n",
    "response = requests.post(api_url, headers=headers, json=data)\n",
    "print(json.dumps(response.json(), indent=4))"
   ]
  },
  {
   "cell_type": "markdown",
   "metadata": {},
   "source": [
    "##### 7. Commonsense & Logical Reasoning"
   ]
  },
  {
   "cell_type": "code",
   "execution_count": 19,
   "metadata": {},
   "outputs": [
    {
     "name": "stdout",
     "output_type": "stream",
     "text": [
      "{\n",
      "    \"id\": \"27dd3b0944974b37b106e4e8c9496008\",\n",
      "    \"object\": \"chat.completion\",\n",
      "    \"created\": 1742636890,\n",
      "    \"model\": \"pixtral-12b-2409\",\n",
      "    \"choices\": [\n",
      "        {\n",
      "            \"index\": 0,\n",
      "            \"message\": {\n",
      "                \"role\": \"assistant\",\n",
      "                \"tool_calls\": null,\n",
      "                \"content\": \"No, it is not normal for a dog to wear glasses and read a newspaper. Dogs do not have the physical capability or the cognitive ability to wear glasses or read human text. The image of a dog wearing glasses and reading a newspaper is a playful and humorous representation, likely created for entertainment purposes. It is important to understand that this image is not a realistic depiction of a dog's abilities or behavior.\"\n",
      "            },\n",
      "            \"finish_reason\": \"stop\"\n",
      "        }\n",
      "    ],\n",
      "    \"usage\": {\n",
      "        \"prompt_tokens\": 4182,\n",
      "        \"total_tokens\": 4263,\n",
      "        \"completion_tokens\": 81\n",
      "    }\n",
      "}\n"
     ]
    }
   ],
   "source": [
    "image_path = 'images/Picture7.jpg'\n",
    "image_base64 = encode_image_to_base64(image_path)\n",
    "\n",
    "data = {\n",
    "    'model': 'pixtral-12b-2409',\n",
    "    'messages': [\n",
    "        {\n",
    "            'role': 'user',\n",
    "            'content': [\n",
    "                {'type': 'image_url', 'image_url': {'url': f'data:image/jpeg;base64,{image_base64}'}},\n",
    "                {'type': 'text', 'text': 'Is it normal for a dog to wear glasses and read a newspaper? Why or why not?'}\n",
    "            ]\n",
    "        }\n",
    "    ]\n",
    "}\n",
    "\n",
    "response = requests.post(api_url, headers=headers, json=data)\n",
    "print(json.dumps(response.json(), indent=4))"
   ]
  },
  {
   "cell_type": "code",
   "execution_count": 20,
   "metadata": {},
   "outputs": [
    {
     "name": "stdout",
     "output_type": "stream",
     "text": [
      "{\n",
      "    \"id\": \"b34c6716409e459381ff541c3267fc31\",\n",
      "    \"object\": \"chat.completion\",\n",
      "    \"created\": 1742636898,\n",
      "    \"model\": \"pixtral-12b-2409\",\n",
      "    \"choices\": [\n",
      "        {\n",
      "            \"index\": 0,\n",
      "            \"message\": {\n",
      "                \"role\": \"assistant\",\n",
      "                \"tool_calls\": null,\n",
      "                \"content\": \"The unusual aspect of this scene is that a dog and a cat are depicted reading newspapers together, which is not a typical behavior for animals. Dogs and cats do not have the ability to read or understand written text, so the image of them reading newspapers is a humorous and whimsical representation. Additionally, the dog is wearing glasses, which further adds to the playful and unrealistic nature of the scene. This image is likely created for entertainment purposes, highlighting the contrast between human activities and animal behaviors.\"\n",
      "            },\n",
      "            \"finish_reason\": \"stop\"\n",
      "        }\n",
      "    ],\n",
      "    \"usage\": {\n",
      "        \"prompt_tokens\": 4170,\n",
      "        \"total_tokens\": 4270,\n",
      "        \"completion_tokens\": 100\n",
      "    }\n",
      "}\n"
     ]
    }
   ],
   "source": [
    "image_path = 'images/Picture7.jpg'\n",
    "image_base64 = encode_image_to_base64(image_path)\n",
    "\n",
    "data = {\n",
    "    'model': 'pixtral-12b-2409',\n",
    "    'messages': [\n",
    "        {\n",
    "            'role': 'user',\n",
    "            'content': [\n",
    "                {'type': 'image_url', 'image_url': {'url': f'data:image/jpeg;base64,{image_base64}'}},\n",
    "                {'type': 'text', 'text': 'What is unusual about this scene?'}\n",
    "            ]\n",
    "        }\n",
    "    ]\n",
    "}\n",
    "\n",
    "response = requests.post(api_url, headers=headers, json=data)\n",
    "print(json.dumps(response.json(), indent=4))"
   ]
  },
  {
   "cell_type": "markdown",
   "metadata": {},
   "source": [
    "##### 8. Zero-Shot & Few-Shot Learning"
   ]
  },
  {
   "cell_type": "code",
   "execution_count": 21,
   "metadata": {},
   "outputs": [
    {
     "name": "stdout",
     "output_type": "stream",
     "text": [
      "{\n",
      "    \"id\": \"86f434e2513c47ab90e27be35d3da1cf\",\n",
      "    \"object\": \"chat.completion\",\n",
      "    \"created\": 1742636906,\n",
      "    \"model\": \"pixtral-12b-2409\",\n",
      "    \"choices\": [\n",
      "        {\n",
      "            \"index\": 0,\n",
      "            \"message\": {\n",
      "                \"role\": \"assistant\",\n",
      "                \"tool_calls\": null,\n",
      "                \"content\": \"This object is a digital illustration of a cat wearing a complex mechanical exoskeleton, resembling a robot. It differs from a real cat in that it has metallic limbs with visible gears and machinery, giving it an artificial, robotic appearance, whereas a real cat would not have such mechanical enhancements.\"\n",
      "            },\n",
      "            \"finish_reason\": \"stop\"\n",
      "        }\n",
      "    ],\n",
      "    \"usage\": {\n",
      "        \"prompt_tokens\": 2358,\n",
      "        \"total_tokens\": 2417,\n",
      "        \"completion_tokens\": 59\n",
      "    }\n",
      "}\n"
     ]
    }
   ],
   "source": [
    "image_path = 'images/Picture8.jpg'\n",
    "image_base64 = encode_image_to_base64(image_path)\n",
    "\n",
    "data = {\n",
    "    'model': 'pixtral-12b-2409',\n",
    "    'messages': [\n",
    "        {\n",
    "            'role': 'user',\n",
    "            'content': [\n",
    "                {'type': 'image_url', 'image_url': {'url': f'data:image/jpeg;base64,{image_base64}'}},\n",
    "                {'type': 'text', 'text': 'What is this object, and how does it differ from a real cat?'}\n",
    "            ]\n",
    "        }\n",
    "    ]\n",
    "}\n",
    "\n",
    "response = requests.post(api_url, headers=headers, json=data)\n",
    "print(json.dumps(response.json(), indent=4))"
   ]
  },
  {
   "cell_type": "code",
   "execution_count": 22,
   "metadata": {},
   "outputs": [
    {
     "name": "stdout",
     "output_type": "stream",
     "text": [
      "{\n",
      "    \"id\": \"50b8fe6289254074b3e3a5306582cca0\",\n",
      "    \"object\": \"chat.completion\",\n",
      "    \"created\": 1742636913,\n",
      "    \"model\": \"pixtral-12b-2409\",\n",
      "    \"choices\": [\n",
      "        {\n",
      "            \"index\": 0,\n",
      "            \"message\": {\n",
      "                \"role\": \"assistant\",\n",
      "                \"tool_calls\": null,\n",
      "                \"content\": \"The robotic cat appears to have multiple functions, including mobility with its mechanical legs, likely enhanced vision or sensory capabilities with its glowing eyes, and possibly communication or interaction tools indicated by the various mechanical components and antennas on its back. It seems designed for exploration or surveillance in urban environments.\"\n",
      "            },\n",
      "            \"finish_reason\": \"stop\"\n",
      "        }\n",
      "    ],\n",
      "    \"usage\": {\n",
      "        \"prompt_tokens\": 2359,\n",
      "        \"total_tokens\": 2415,\n",
      "        \"completion_tokens\": 56\n",
      "    }\n",
      "}\n"
     ]
    }
   ],
   "source": [
    "image_path = 'images/Picture8.jpg'\n",
    "image_base64 = encode_image_to_base64(image_path)\n",
    "\n",
    "data = {\n",
    "    'model': 'pixtral-12b-2409',\n",
    "    'messages': [\n",
    "        {\n",
    "            'role': 'user',\n",
    "            'content': [\n",
    "                {'type': 'image_url', 'image_url': {'url': f'data:image/jpeg;base64,{image_base64}'}},\n",
    "                {'type': 'text', 'text': 'Based on the image, can you guess the possible functions of this robotic cat?'}\n",
    "            ]\n",
    "        }\n",
    "    ]\n",
    "}\n",
    "\n",
    "response = requests.post(api_url, headers=headers, json=data)\n",
    "print(json.dumps(response.json(), indent=4))"
   ]
  }
 ],
 "metadata": {
  "kernelspec": {
   "display_name": "Python 3",
   "language": "python",
   "name": "python3"
  },
  "language_info": {
   "codemirror_mode": {
    "name": "ipython",
    "version": 3
   },
   "file_extension": ".py",
   "mimetype": "text/x-python",
   "name": "python",
   "nbconvert_exporter": "python",
   "pygments_lexer": "ipython3",
   "version": "3.11.8"
  }
 },
 "nbformat": 4,
 "nbformat_minor": 2
}
