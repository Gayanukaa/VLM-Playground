{
 "cells": [
  {
   "cell_type": "code",
   "execution_count": 1,
   "id": "e5405616",
   "metadata": {},
   "outputs": [
    {
     "name": "stdout",
     "output_type": "stream",
     "text": [
      "🦥 Unsloth: Will patch your computer to enable 2x faster free finetuning.\n",
      "🦥 Unsloth Zoo will now patch everything to make training faster!\n",
      "Standard import failed for UnslothDDPOTrainer: No module named 'UnslothDDPOTrainer'. Using tempfile instead!\n"
     ]
    },
    {
     "name": "stderr",
     "output_type": "stream",
     "text": [
      "[nltk_data] Downloading package punkt to /root/nltk_data...\n",
      "[nltk_data]   Unzipping tokenizers/punkt.zip.\n"
     ]
    },
    {
     "data": {
      "text/plain": [
       "True"
      ]
     },
     "execution_count": 1,
     "metadata": {},
     "output_type": "execute_result"
    }
   ],
   "source": [
    "import os\n",
    "import json\n",
    "import pandas as pd\n",
    "from PIL import Image\n",
    "from tqdm import tqdm\n",
    "import torch\n",
    "from unsloth import FastLanguageModel\n",
    "from transformers import AutoProcessor, TextStreamer\n",
    "import nltk\n",
    "\n",
    "nltk.download(\"punkt\")"
   ]
  },
  {
   "cell_type": "code",
   "execution_count": 2,
   "id": "9080f8bd",
   "metadata": {},
   "outputs": [],
   "source": [
    "def create_image_caption_dataset(\n",
    "    image_folder: str,\n",
    "    captions_json: str,\n",
    "    caption_strategy: str = 'first'\n",
    ") -> pd.DataFrame:\n",
    "    with open(captions_json, 'r') as f:\n",
    "        captions_data = json.load(f)\n",
    "\n",
    "    data = []\n",
    "    for filename, caption_list in captions_data.items():\n",
    "        image_path = os.path.join(image_folder, filename)\n",
    "        if not os.path.exists(image_path):\n",
    "            continue\n",
    "        try:\n",
    "            image = Image.open(image_path).convert(\"RGB\")\n",
    "            caption = caption_list if caption_strategy == 'first' else random.choice(caption_list)\n",
    "            data.append({\"image\": image, \"caption\": caption, \"filename\": filename})\n",
    "        except Exception as e:\n",
    "            print(f\"[ERROR] Could not load {filename}: {e}\")\n",
    "    return pd.DataFrame(data)"
   ]
  },
  {
   "cell_type": "code",
   "execution_count": 6,
   "id": "2bab70e6",
   "metadata": {},
   "outputs": [
    {
     "name": "stdout",
     "output_type": "stream",
     "text": [
      "==((====))==  Unsloth 2025.4.7: Fast Qwen2 patching. Transformers: 4.51.3.\n",
      "   \\\\   /|    NVIDIA A40. Num GPUs = 1. Max memory: 44.448 GB. Platform: Linux.\n",
      "O^O/ \\_/ \\    Torch: 2.7.0+cu126. CUDA: 8.6. CUDA Toolkit: 12.6. Triton: 3.3.0\n",
      "\\        /    Bfloat16 = TRUE. FA [Xformers = 0.0.30. FA2 = False]\n",
      " \"-____-\"     Free license: http://github.com/unslothai/unsloth\n",
      "Unsloth: Fast downloading is enabled - ignore downloading bars which are red colored!\n"
     ]
    },
    {
     "data": {
      "application/vnd.jupyter.widget-view+json": {
       "model_id": "d47a805b8694456197b08d3de7690c27",
       "version_major": 2,
       "version_minor": 0
      },
      "text/plain": [
       "preprocessor_config.json:   0%|          | 0.00/575 [00:00<?, ?B/s]"
      ]
     },
     "metadata": {},
     "output_type": "display_data"
    },
    {
     "data": {
      "application/vnd.jupyter.widget-view+json": {
       "model_id": "aa1218b460a243b1b2a8d30c95ee8e01",
       "version_major": 2,
       "version_minor": 0
      },
      "text/plain": [
       "tokenizer_config.json:   0%|          | 0.00/7.33k [00:00<?, ?B/s]"
      ]
     },
     "metadata": {},
     "output_type": "display_data"
    },
    {
     "data": {
      "application/vnd.jupyter.widget-view+json": {
       "model_id": "d62d3f4ebd59407e8036de3f82a152d9",
       "version_major": 2,
       "version_minor": 0
      },
      "text/plain": [
       "vocab.json:   0%|          | 0.00/2.78M [00:00<?, ?B/s]"
      ]
     },
     "metadata": {},
     "output_type": "display_data"
    },
    {
     "data": {
      "application/vnd.jupyter.widget-view+json": {
       "model_id": "7e2b9512781d448d811f40423360606b",
       "version_major": 2,
       "version_minor": 0
      },
      "text/plain": [
       "merges.txt:   0%|          | 0.00/1.67M [00:00<?, ?B/s]"
      ]
     },
     "metadata": {},
     "output_type": "display_data"
    },
    {
     "data": {
      "application/vnd.jupyter.widget-view+json": {
       "model_id": "cf3564244f0c4443bc7bc14fffa9240e",
       "version_major": 2,
       "version_minor": 0
      },
      "text/plain": [
       "tokenizer.json:   0%|          | 0.00/11.4M [00:00<?, ?B/s]"
      ]
     },
     "metadata": {},
     "output_type": "display_data"
    },
    {
     "data": {
      "application/vnd.jupyter.widget-view+json": {
       "model_id": "c32988abd3db426d820c7836e47838ed",
       "version_major": 2,
       "version_minor": 0
      },
      "text/plain": [
       "added_tokens.json:   0%|          | 0.00/605 [00:00<?, ?B/s]"
      ]
     },
     "metadata": {},
     "output_type": "display_data"
    },
    {
     "data": {
      "application/vnd.jupyter.widget-view+json": {
       "model_id": "32ed98dc1e7945e4a929871c08200055",
       "version_major": 2,
       "version_minor": 0
      },
      "text/plain": [
       "special_tokens_map.json:   0%|          | 0.00/614 [00:00<?, ?B/s]"
      ]
     },
     "metadata": {},
     "output_type": "display_data"
    },
    {
     "data": {
      "application/vnd.jupyter.widget-view+json": {
       "model_id": "19553560305449bcb110a10b3b59765a",
       "version_major": 2,
       "version_minor": 0
      },
      "text/plain": [
       "chat_template.json:   0%|          | 0.00/1.05k [00:00<?, ?B/s]"
      ]
     },
     "metadata": {},
     "output_type": "display_data"
    }
   ],
   "source": [
    "model_id = \"unsloth/Qwen2.5-VL-7B-Instruct-bnb-4bit\"  # change if needed\n",
    "#unsloth/Pixtral-12B-2409-bnb-4bit\n",
    "\n",
    "model, tokenizer = FastLanguageModel.from_pretrained(\n",
    "    model_name = model_id,\n",
    "    dtype = torch.float16,\n",
    "    load_in_4bit = True,\n",
    "    device_map = \"auto\"\n",
    ")\n",
    "\n",
    "model = FastLanguageModel.for_inference(model)\n",
    "processor = AutoProcessor.from_pretrained(model_id)"
   ]
  },
  {
   "cell_type": "code",
   "execution_count": 7,
   "id": "71501eb6",
   "metadata": {},
   "outputs": [
    {
     "name": "stdout",
     "output_type": "stream",
     "text": [
      "Loaded 451 image-caption pairs\n"
     ]
    }
   ],
   "source": [
    "image_folder = \"/workspace/data/filtered_images\"\n",
    "captions_json = \"/workspace/data/merged_output.json\"\n",
    "\n",
    "df = create_image_caption_dataset(image_folder, captions_json)\n",
    "print(f\"Loaded {len(df)} image-caption pairs\")"
   ]
  },
  {
   "cell_type": "code",
   "execution_count": 8,
   "id": "99d52628",
   "metadata": {},
   "outputs": [
    {
     "name": "stdout",
     "output_type": "stream",
     "text": [
      "📌 First 5 entries:\n",
      "                                               image  \\\n",
      "0  <PIL.Image.Image image mode=RGB size=1000x750 ...   \n",
      "1  <PIL.Image.Image image mode=RGB size=1000x667 ...   \n",
      "2  <PIL.Image.Image image mode=RGB size=1000x667 ...   \n",
      "3  <PIL.Image.Image image mode=RGB size=1000x667 ...   \n",
      "4  <PIL.Image.Image image mode=RGB size=1000x667 ...   \n",
      "\n",
      "                                             caption    filename  \n",
      "0  The vehicle exhibits significant damage, prima...  000001.jpg  \n",
      "1  The vehicle exhibits significant damage. The f...  000002.jpg  \n",
      "2  The vehicle exhibits significant damage includ...  000003.jpg  \n",
      "3  The vehicle exhibits significant damage to one...  000004.jpg  \n",
      "4  The vehicle exhibits significant damage with a...  000005.jpg   \n",
      "\n",
      "📋 Column types:\n",
      "image       object\n",
      "caption     object\n",
      "filename    object\n",
      "dtype: object\n",
      "\n",
      "🔎 Size\n",
      "(451, 3)\n"
     ]
    }
   ],
   "source": [
    "print(\"📌 First 5 entries:\")\n",
    "print(df.head(), \"\\n\")\n",
    "\n",
    "print(\"📋 Column types:\")\n",
    "print(df.dtypes)\n",
    "\n",
    "print(\"\\n🔎 Size\")\n",
    "print(df.shape)"
   ]
  },
  {
   "cell_type": "code",
   "execution_count": 39,
   "id": "6fabf79c",
   "metadata": {},
   "outputs": [],
   "source": [
    "import time\n",
    "import torch\n",
    "from transformers import TextStreamer\n",
    "\n",
    "streamer = TextStreamer(tokenizer, skip_prompt=True)\n",
    "\n",
    "def run_vlm_inference(prompt: str, image_index: int, df: pd.DataFrame):\n",
    "    \"\"\"\n",
    "    Perform inference on a given image using a custom prompt.\n",
    "    Returns generated output, peak vram usage (GB), and time taken (sec).\n",
    "    \"\"\"\n",
    "    if image_index >= len(df):\n",
    "        print(\"[ERROR] Image index out of bounds.\")\n",
    "        return \"\", 0.0, 0.0\n",
    "\n",
    "    row = df.iloc[image_index]\n",
    "    image = row[\"image\"]\n",
    "    filename = row[\"filename\"]\n",
    "\n",
    "    messages = [\n",
    "        {\n",
    "            \"role\": \"user\",\n",
    "            \"content\": [\n",
    "                {\"type\": \"text\", \"text\": prompt},\n",
    "                {\"type\": \"image\", \"image\": image}\n",
    "            ]\n",
    "        }\n",
    "    ]\n",
    "\n",
    "    input_text = tokenizer.apply_chat_template(messages, add_generation_prompt=True)\n",
    "    inputs = processor(images=image, text=input_text, return_tensors=\"pt\").to(\"cuda\")\n",
    "\n",
    "    print(f\"🔹 Image: {filename}\")\n",
    "    print(f\"🧾 Prompt: {prompt}\")\n",
    "    print(\"📤 Output:\")\n",
    "\n",
    "    torch.cuda.reset_peak_memory_stats()\n",
    "    start = time.time()\n",
    "\n",
    "    outputs = model.generate(\n",
    "        **inputs,\n",
    "        streamer=streamer,\n",
    "        max_new_tokens=128,\n",
    "        use_cache=True,\n",
    "        temperature=1.0,\n",
    "        top_p=0.95\n",
    "    )\n",
    "\n",
    "    end = time.time()\n",
    "    peak_memory_gb = torch.cuda.max_memory_allocated() / 1024**3\n",
    "    elapsed_sec = round(end - start, 3)\n",
    "\n",
    "    # Decode output\n",
    "    decoded = tokenizer.decode(outputs[0], skip_special_tokens=True).strip()\n",
    "\n",
    "    print(\"🕒 Time:\", elapsed_sec, \"seconds\")\n",
    "    print(\"🧠 Peak VRAM:\", round(peak_memory_gb, 3), \"GB\")\n",
    "    print(\"-\" * 80)\n",
    "\n",
    "    return decoded, round(peak_memory_gb, 3), elapsed_sec"
   ]
  },
  {
   "cell_type": "code",
   "execution_count": 40,
   "id": "21a6f630-0b10-49de-9b34-e2da40a4bff7",
   "metadata": {},
   "outputs": [
    {
     "name": "stdout",
     "output_type": "stream",
     "text": [
      "🔹 Image: 000001.jpg\n",
      "🧾 Prompt: \n",
      "📤 Output:\n",
      "The image shows a close-up of a red car with a flat tire. The tire appears to be completely deflated, and the rim is visible with some rust on the bolts. The car's fender is also damaged, with a noticeable dent or tear near the tire area. This could be due to an impact or a collision. It's important to replace the flat tire as soon as possible to avoid further damage to the vehicle and ensure safe driving conditions.<|im_end|>\n",
      "🕒 Time: 4.053 seconds\n",
      "🧠 Peak VRAM: 6.071 GB\n",
      "--------------------------------------------------------------------------------\n",
      "🔹 Image: 000001.jpg\n",
      "🧾 Prompt: Describe &&damage 12 sedan drive’ this !!image.\n",
      "📤 Output:\n",
      "The image shows a red sedan with significant damage to its front left side, specifically the wheel well area. The tire appears to be in poor condition, with visible signs of wear and tear, including cracks and uneven tread patterns. The rim is also showing signs of rust and wear, particularly around the center cap where the bolts are located. The paint on the car's body is chipped and peeling in several areas, indicating that the vehicle has been exposed to the elements for some time. The overall condition suggests that the car may have been involved in an accident or has been neglected for a while.<|im_end|>\n",
      "🕒 Time: 5.242 seconds\n",
      "🧠 Peak VRAM: 6.073 GB\n",
      "--------------------------------------------------------------------------------\n",
      "🔹 Image: 000001.jpg\n",
      "🧾 Prompt: An image of a damaged car parked on the side of the road.\n",
      "📤 Output:\n",
      "The image shows a red car with significant damage to its front fender and tire. The tire appears to be flat, and there is visible wear or damage to the wheel and surrounding area of the fender. The paint on the car's body is chipped in several places, indicating that the vehicle has been involved in an accident or has sustained some form of impact.\n",
      "\n",
      "If you encounter such a situation, it's important to ensure your safety first by moving to a safe location if possible, and then contacting local authorities or emergency services if necessary. Additionally, report the incident to your insurance company as soon as possible so they can assess the damage\n",
      "🕒 Time: 5.605 seconds\n",
      "🧠 Peak VRAM: 6.074 GB\n",
      "--------------------------------------------------------------------------------\n",
      "🔹 Image: 000001.jpg\n",
      "🧾 Prompt: You are an insurance claims assessor. Provide a detailed description of the car’s condition.\n",
      "📤 Output:\n",
      "The image shows a red car with significant damage to its front fender and tire area. Here is a detailed assessment of the condition:\n",
      "\n",
      "1. **Fender Damage**:\n",
      "   - The front fender appears to be severely damaged, with visible cracks and dents.\n",
      "   - There is a noticeable gap where the fender has been pushed inward, exposing the inner structure of the vehicle.\n",
      "   - The paint on the fender is chipped in several areas, indicating that the impact was forceful enough to cause both physical damage and paint loss.\n",
      "\n",
      "2. **Tire Condition**:\n",
      "   - The tire is completely flat, as indicated\n",
      "🕒 Time: 5.345 seconds\n",
      "🧠 Peak VRAM: 6.075 GB\n",
      "--------------------------------------------------------------------------------\n",
      "🔹 Image: 000001.jpg\n",
      "🧾 Prompt: This <part_1> of the car has <damage_type_1>. The severity appears to be <severity_1>. Additional notes: <text_1>.\n",
      "📤 Output:\n",
      "The part of the car shown in the image is the wheel well, and it appears to have significant damage. The damage type seems to be a large dent or deformation in the fender area, which could be due to an impact or collision. The severity of the damage looks quite severe as the dent extends into the wheel well and affects the structural integrity of the fender. Additional notes include that the paint on the fender is chipped in several areas, indicating previous damage or wear. The wheel itself also shows signs of wear, with visible rust on the bolts and some wear on the tire tread.<|im_end|>\n",
      "🕒 Time: 5.143 seconds\n",
      "🧠 Peak VRAM: 6.081 GB\n",
      "--------------------------------------------------------------------------------\n",
      "🔹 Image: 000001.jpg\n",
      "🧾 Prompt: Describe using format - Damage Type: ___; Affected Part: ___; Severity: ___; Notes: ___\n",
      "📤 Output:\n",
      "Damage Type: Puncture; Affected Part: Tire; Severity: Moderate; Notes: The tire appears to have a significant puncture, likely causing it to be flat and unable to hold air. There is visible damage to the surrounding area of the wheel well, indicating that the puncture may have caused some internal damage as well.<|im_end|>\n",
      "🕒 Time: 2.994 seconds\n",
      "🧠 Peak VRAM: 6.075 GB\n",
      "--------------------------------------------------------------------------------\n"
     ]
    }
   ],
   "source": [
    "inference_outputs = []\n",
    "vram_usages = []\n",
    "inference_times = []\n",
    "\n",
    "prompts = [\n",
    "    \"\",  # Prompt 1: No Prompt\n",
    "    \"Describe &&damage 12 sedan drive’ this !!image.\",  # Noisy\n",
    "    \"An image of a damaged car parked on the side of the road.\",  # Hand-crafted\n",
    "    \"You are an insurance claims assessor. Provide a detailed description of the car’s condition.\",  # Roleplay\n",
    "    \"This <part_1> of the car has <damage_type_1>. The severity appears to be <severity_1>. Additional notes: <text_1>.\",  # Masked\n",
    "    \"Describe using format - Damage Type: ___; Affected Part: ___; Severity: ___; Notes: ___\"  # Format-Guided\n",
    "]\n",
    "\n",
    "for prompt in prompts:\n",
    "    output, vram, time_taken = run_vlm_inference(prompt, image_index=0, df=df)\n",
    "    inference_outputs.append(output)\n",
    "    vram_usages.append(vram)\n",
    "    inference_times.append(time_taken)"
   ]
  },
  {
   "cell_type": "code",
   "execution_count": 11,
   "id": "3d38bf6c",
   "metadata": {},
   "outputs": [],
   "source": [
    "from sentence_transformers import SentenceTransformer, util\n",
    "from pycocoevalcap.cider.cider import Cider\n",
    "from pycocoevalcap.spice.spice import Spice\n",
    "from pycocoevalcap.tokenizer.ptbtokenizer import PTBTokenizer\n",
    "import pandas as pd\n",
    "\n",
    "sbert_model = SentenceTransformer('all-MiniLM-L6-v2')"
   ]
  },
  {
   "cell_type": "code",
   "execution_count": 12,
   "id": "1974cc80",
   "metadata": {},
   "outputs": [],
   "source": [
    "def compute_cosine_similarity(reference_captions, generated_caption):\n",
    "    try:\n",
    "        total_score = 0.0\n",
    "        for caption in reference_captions:\n",
    "            ref_embed = sbert_model.encode(caption, convert_to_tensor=True)\n",
    "            gen_embed = sbert_model.encode(generated_caption, convert_to_tensor=True)\n",
    "            score = util.cos_sim(gen_embed, ref_embed).item()\n",
    "            total_score += score\n",
    "        avg_score = total_score / len(reference_captions) if reference_captions else 0.0\n",
    "        return avg_score\n",
    "    except Exception as e:\n",
    "        print(f\"Error computing cosine similarity: {e}\")\n",
    "        return 0.0"
   ]
  },
  {
   "cell_type": "code",
   "execution_count": null,
   "id": "3f9b8529",
   "metadata": {},
   "outputs": [],
   "source": [
    "def compute_cider_spice_scores(reference_caption, generated_caption):\n",
    "    refs = {0: [reference_caption if reference_caption else \"\"]}\n",
    "    hypos = {0: [generated_caption if generated_caption else \"\"]}\n",
    "\n",
    "    # print(f\"Generated caption: {generated_caption}\")\n",
    "    # print(f\"Generated hypos: {hypos}\")\n",
    "\n",
    "    ptb = PTBTokenizer()\n",
    "    refs_tok = ptb.tokenize({i: [{\"caption\": c} for c in caps] for i, caps in refs.items()})\n",
    "    hypos_tok = ptb.tokenize({i: [{\"caption\": hypos[i][0]}] for i in hypos})\n",
    "\n",
    "    all_scores = {}\n",
    "\n",
    "    for scorer, name in [(Cider(), \"CIDEr\"), (Spice(), \"SPICE\")]:\n",
    "        try:\n",
    "            avg_score, _ = scorer.compute_score(refs_tok, hypos_tok)\n",
    "            if name == \"SPICE\":\n",
    "                # SPICE returns dicts per image\n",
    "                all_scores[name] = avg_score.get(\"All\", {}).get(\"f\", 0.0) if isinstance(avg_score, dict) else avg_score\n",
    "            else:\n",
    "                all_scores[name] = avg_score\n",
    "        except Exception as e:\n",
    "            print(f\"[ERROR] {name} scoring failed: {e}\")\n",
    "            all_scores[name] = 0.0\n",
    "\n",
    "    return all_scores\n"
   ]
  },
  {
   "cell_type": "code",
   "execution_count": 25,
   "id": "035e2bda",
   "metadata": {},
   "outputs": [],
   "source": [
    "def evaluate_all_metrics(reference_caption, generated_caption):\n",
    "    cider_spice_scores = compute_cider_spice_scores(reference_caption, generated_caption)\n",
    "    cosine_sim = compute_cosine_similarity([reference_caption], generated_caption)\n",
    "\n",
    "    return {\n",
    "        \"cosine_similarity\": round(cosine_sim, 4),\n",
    "        \"CIDEr\": round(cider_spice_scores.get(\"CIDEr\", 0.0), 4),\n",
    "        \"SPICE\": round(cider_spice_scores.get(\"SPICE\", 0.0), 4)\n",
    "    }"
   ]
  },
  {
   "cell_type": "code",
   "execution_count": 41,
   "id": "36332c63",
   "metadata": {},
   "outputs": [
    {
     "name": "stdout",
     "output_type": "stream",
     "text": [
      "The vehicle exhibits significant damage, primarily focusing on the wheel and surrounding bodywork. The tire is heavily deteriorated with extensive cracking across the sidewall and appears to be flat. The wheel itself shows signs of rust and corrosion. The car's body panel adjacent to the wheel has substantial rust and corrosion, with areas of missing paint and exposed metal, suggesting long-term neglect or damage.\n",
      "[\"system\\nYou are a helpful assistant.\\nuser\\n\\nassistant\\nThe image shows a close-up of a red car with a flat tire. The tire appears to be completely deflated, and the rim is visible with some rust on the bolts. The car's fender is also damaged, with a noticeable dent or tear near the tire area. This could be due to an impact or a collision. It's important to replace the flat tire as soon as possible to avoid further damage to the vehicle and ensure safe driving conditions.\", \"system\\nYou are a helpful assistant.\\nuser\\nDescribe &&damage 12 sedan drive’ this !!image.\\nassistant\\nThe image shows a red sedan with significant damage to its front left side, specifically the wheel well area. The tire appears to be in poor condition, with visible signs of wear and tear, including cracks and uneven tread patterns. The rim is also showing signs of rust and wear, particularly around the center cap where the bolts are located. The paint on the car's body is chipped and peeling in several areas, indicating that the vehicle has been exposed to the elements for some time. The overall condition suggests that the car may have been involved in an accident or has been neglected for a while.\", \"system\\nYou are a helpful assistant.\\nuser\\nAn image of a damaged car parked on the side of the road.\\nassistant\\nThe image shows a red car with significant damage to its front fender and tire. The tire appears to be flat, and there is visible wear or damage to the wheel and surrounding area of the fender. The paint on the car's body is chipped in several places, indicating that the vehicle has been involved in an accident or has sustained some form of impact.\\n\\nIf you encounter such a situation, it's important to ensure your safety first by moving to a safe location if possible, and then contacting local authorities or emergency services if necessary. Additionally, report the incident to your insurance company as soon as possible so they can assess the damage\", 'system\\nYou are a helpful assistant.\\nuser\\nYou are an insurance claims assessor. Provide a detailed description of the car’s condition.\\nassistant\\nThe image shows a red car with significant damage to its front fender and tire area. Here is a detailed assessment of the condition:\\n\\n1. **Fender Damage**:\\n   - The front fender appears to be severely damaged, with visible cracks and dents.\\n   - There is a noticeable gap where the fender has been pushed inward, exposing the inner structure of the vehicle.\\n   - The paint on the fender is chipped in several areas, indicating that the impact was forceful enough to cause both physical damage and paint loss.\\n\\n2. **Tire Condition**:\\n   - The tire is completely flat, as indicated', 'system\\nYou are a helpful assistant.\\nuser\\nThis <part_1> of the car has <damage_type_1>. The severity appears to be <severity_1>. Additional notes: <text_1>.\\nassistant\\nThe part of the car shown in the image is the wheel well, and it appears to have significant damage. The damage type seems to be a large dent or deformation in the fender area, which could be due to an impact or collision. The severity of the damage looks quite severe as the dent extends into the wheel well and affects the structural integrity of the fender. Additional notes include that the paint on the fender is chipped in several areas, indicating previous damage or wear. The wheel itself also shows signs of wear, with visible rust on the bolts and some wear on the tire tread.', 'system\\nYou are a helpful assistant.\\nuser\\nDescribe using format - Damage Type: ___; Affected Part: ___; Severity: ___; Notes: ___\\nassistant\\nDamage Type: Puncture; Affected Part: Tire; Severity: Moderate; Notes: The tire appears to have a significant puncture, likely causing it to be flat and unable to hold air. There is visible damage to the surrounding area of the wheel well, indicating that the puncture may have caused some internal damage as well.']\n",
      "[6.071, 6.073, 6.074, 6.075, 6.081, 6.075]\n",
      "[4.053, 5.242, 5.605, 5.345, 5.143, 2.994]\n"
     ]
    }
   ],
   "source": [
    "print(ground_truths)\n",
    "print(inference_outputs)\n",
    "print(vram_usages)\n",
    "print(inference_times)"
   ]
  },
  {
   "cell_type": "code",
   "execution_count": 37,
   "id": "e8b2100b-1268-4fe2-816a-c46a3ed0cbb4",
   "metadata": {},
   "outputs": [
    {
     "name": "stdout",
     "output_type": "stream",
     "text": [
      "\n",
      "Prompt 1 Output:\n",
      "system\n",
      "You are a helpful assistant.\n",
      "user\n",
      "\n",
      "assistant\n",
      "The image shows a close-up of a red car with a flat tire. The tire appears to be completely deflated, and the rim is visible with some rust on the bolts. The car's fender is also damaged, with a noticeable dent or tear near the tire area. This could be due to an impact or a collision. It's important to replace the flat tire as soon as possible to avoid further damage to the vehicle and ensure safe driving conditions.\n",
      "Reference:\n",
      "The vehicle exhibits significant damage, primarily focusing on the wheel and surrounding bodywork. The tire is heavily deteriorated with extensive cracking across the sidewall and appears to be flat. The wheel itself shows signs of rust and corrosion. The car's body panel adjacent to the wheel has substantial rust and corrosion, with areas of missing paint and exposed metal, suggesting long-term neglect or damage.\n",
      "Generated caption: system\n",
      "You are a helpful assistant.\n",
      "user\n",
      "\n",
      "assistant\n",
      "The image shows a close-up of a red car with a flat tire. The tire appears to be completely deflated, and the rim is visible with some rust on the bolts. The car's fender is also damaged, with a noticeable dent or tear near the tire area. This could be due to an impact or a collision. It's important to replace the flat tire as soon as possible to avoid further damage to the vehicle and ensure safe driving conditions.\n",
      "Generated hypos: {0: [\"system\\nYou are a helpful assistant.\\nuser\\n\\nassistant\\nThe image shows a close-up of a red car with a flat tire. The tire appears to be completely deflated, and the rim is visible with some rust on the bolts. The car's fender is also damaged, with a noticeable dent or tear near the tire area. This could be due to an impact or a collision. It's important to replace the flat tire as soon as possible to avoid further damage to the vehicle and ensure safe driving conditions.\"]}\n"
     ]
    },
    {
     "name": "stderr",
     "output_type": "stream",
     "text": [
      "PTBTokenizer tokenized 72 tokens at 1811.49 tokens per second.\n",
      "PTBTokenizer tokenized 98 tokens at 2691.02 tokens per second.\n",
      "Parsing reference captions\n",
      "Parsing test captions\n"
     ]
    },
    {
     "name": "stdout",
     "output_type": "stream",
     "text": [
      "SPICE evaluation took: 6.614 s\n",
      "\n",
      "Prompt 2 Output:\n",
      "system\n",
      "You are a helpful assistant.\n",
      "user\n",
      "Describe &&damage 12 sedan drive’ this !!image.\n",
      "assistant\n",
      "The image shows a red sedan with significant damage to its front left side, specifically the wheel well area. The tire appears to be in poor condition, with visible signs of wear and tear, including cracks and uneven tread patterns. The rim is also showing signs of rust and wear, particularly around the center cap where the bolts are located. The paint on the car's body is chipped and peeling in several areas, indicating that the vehicle has been exposed to the elements for some time. The overall condition suggests that the car may have been involved in an accident or has been neglected for a while.\n",
      "Reference:\n",
      "The vehicle exhibits significant damage, primarily focusing on the wheel and surrounding bodywork. The tire is heavily deteriorated with extensive cracking across the sidewall and appears to be flat. The wheel itself shows signs of rust and corrosion. The car's body panel adjacent to the wheel has substantial rust and corrosion, with areas of missing paint and exposed metal, suggesting long-term neglect or damage.\n",
      "Generated caption: system\n",
      "You are a helpful assistant.\n",
      "user\n",
      "Describe &&damage 12 sedan drive’ this !!image.\n",
      "assistant\n",
      "The image shows a red sedan with significant damage to its front left side, specifically the wheel well area. The tire appears to be in poor condition, with visible signs of wear and tear, including cracks and uneven tread patterns. The rim is also showing signs of rust and wear, particularly around the center cap where the bolts are located. The paint on the car's body is chipped and peeling in several areas, indicating that the vehicle has been exposed to the elements for some time. The overall condition suggests that the car may have been involved in an accident or has been neglected for a while.\n",
      "Generated hypos: {0: [\"system\\nYou are a helpful assistant.\\nuser\\nDescribe &&damage 12 sedan drive’ this !!image.\\nassistant\\nThe image shows a red sedan with significant damage to its front left side, specifically the wheel well area. The tire appears to be in poor condition, with visible signs of wear and tear, including cracks and uneven tread patterns. The rim is also showing signs of rust and wear, particularly around the center cap where the bolts are located. The paint on the car's body is chipped and peeling in several areas, indicating that the vehicle has been exposed to the elements for some time. The overall condition suggests that the car may have been involved in an accident or has been neglected for a while.\"]}\n"
     ]
    },
    {
     "name": "stderr",
     "output_type": "stream",
     "text": [
      "PTBTokenizer tokenized 72 tokens at 2164.89 tokens per second.\n",
      "PTBTokenizer tokenized 139 tokens at 3131.23 tokens per second.\n",
      "Parsing reference captions\n",
      "Parsing test captions\n",
      "Initiating Stanford parsing pipeline\n",
      "[main] INFO edu.stanford.nlp.pipeline.StanfordCoreNLP - Adding annotator tokenize\n",
      "[main] INFO edu.stanford.nlp.pipeline.TokenizerAnnotator - TokenizerAnnotator: No tokenizer type provided. Defaulting to PTBTokenizer.\n",
      "[main] INFO edu.stanford.nlp.pipeline.StanfordCoreNLP - Adding annotator ssplit\n",
      "[main] INFO edu.stanford.nlp.pipeline.StanfordCoreNLP - Adding annotator parse\n",
      "[main] INFO edu.stanford.nlp.parser.common.ParserGrammar - Loading parser from serialized file edu/stanford/nlp/models/lexparser/englishPCFG.ser.gz ... \n",
      "done [0.3 sec].\n",
      "[main] INFO edu.stanford.nlp.pipeline.StanfordCoreNLP - Adding annotator lemma\n",
      "[main] INFO edu.stanford.nlp.pipeline.StanfordCoreNLP - Adding annotator ner\n",
      "Loading classifier from edu/stanford/nlp/models/ner/english.all.3class.distsim.crf.ser.gz ... done [1.0 sec].\n",
      "Loading classifier from edu/stanford/nlp/models/ner/english.muc.7class.distsim.crf.ser.gz ... done [0.4 sec].\n",
      "Loading classifier from edu/stanford/nlp/models/ner/english.conll.4class.distsim.crf.ser.gz ... done [1.6 sec].\n",
      "Threads( StanfordCoreNLP ) [6.267 seconds]\n",
      "Error: Could not cache item to /workspace/pycocoevalcap/spice/cache with key:\n",
      "\"system you are a helpful assistant user describe & & damage 12 sedan drive this !! image assistant the image shows a red sedan with significant damage to its front left side specifically the wheel well area the tire appears to be in poor condition with visible signs of wear and tear including cracks and uneven tread patterns the rim is also showing signs of rust and wear particularly around the center cap where the bolts are located the paint on the car 's body is chipped and peeling in several areas indicating that the vehicle has been exposed to the elements for some time the overall condition suggests that the car may have been involved in an accident or has been neglected for a while\"\n",
      "Caption may be too long\n"
     ]
    },
    {
     "name": "stdout",
     "output_type": "stream",
     "text": [
      "SPICE evaluation took: 12.93 s\n",
      "\n",
      "Prompt 3 Output:\n",
      "system\n",
      "You are a helpful assistant.\n",
      "user\n",
      "An image of a damaged car parked on the side of the road.\n",
      "assistant\n",
      "The image shows a red car with significant damage to its front fender and tire. The tire appears to be flat, and there is visible wear or damage to the wheel and surrounding area of the fender. The paint on the car's body is chipped in several places, indicating that the vehicle has been involved in an accident or has sustained some form of impact.\n",
      "\n",
      "If you encounter such a situation, it's important to ensure your safety first by moving to a safe location if possible, and then contacting local authorities or emergency services if necessary. Additionally, report the incident to your insurance company as soon as possible so they can assess the damage\n",
      "Reference:\n",
      "The vehicle exhibits significant damage, primarily focusing on the wheel and surrounding bodywork. The tire is heavily deteriorated with extensive cracking across the sidewall and appears to be flat. The wheel itself shows signs of rust and corrosion. The car's body panel adjacent to the wheel has substantial rust and corrosion, with areas of missing paint and exposed metal, suggesting long-term neglect or damage.\n",
      "Generated caption: system\n",
      "You are a helpful assistant.\n",
      "user\n",
      "An image of a damaged car parked on the side of the road.\n",
      "assistant\n",
      "The image shows a red car with significant damage to its front fender and tire. The tire appears to be flat, and there is visible wear or damage to the wheel and surrounding area of the fender. The paint on the car's body is chipped in several places, indicating that the vehicle has been involved in an accident or has sustained some form of impact.\n",
      "\n",
      "If you encounter such a situation, it's important to ensure your safety first by moving to a safe location if possible, and then contacting local authorities or emergency services if necessary. Additionally, report the incident to your insurance company as soon as possible so they can assess the damage\n",
      "Generated hypos: {0: [\"system\\nYou are a helpful assistant.\\nuser\\nAn image of a damaged car parked on the side of the road.\\nassistant\\nThe image shows a red car with significant damage to its front fender and tire. The tire appears to be flat, and there is visible wear or damage to the wheel and surrounding area of the fender. The paint on the car's body is chipped in several places, indicating that the vehicle has been involved in an accident or has sustained some form of impact.\\n\\nIf you encounter such a situation, it's important to ensure your safety first by moving to a safe location if possible, and then contacting local authorities or emergency services if necessary. Additionally, report the incident to your insurance company as soon as possible so they can assess the damage\"]}\n"
     ]
    },
    {
     "name": "stderr",
     "output_type": "stream",
     "text": [
      "PTBTokenizer tokenized 72 tokens at 2190.33 tokens per second.\n",
      "PTBTokenizer tokenized 148 tokens at 4510.88 tokens per second.\n",
      "Parsing reference captions\n",
      "Parsing test captions\n",
      "Initiating Stanford parsing pipeline\n",
      "[main] INFO edu.stanford.nlp.pipeline.StanfordCoreNLP - Adding annotator tokenize\n",
      "[main] INFO edu.stanford.nlp.pipeline.TokenizerAnnotator - TokenizerAnnotator: No tokenizer type provided. Defaulting to PTBTokenizer.\n",
      "[main] INFO edu.stanford.nlp.pipeline.StanfordCoreNLP - Adding annotator ssplit\n",
      "[main] INFO edu.stanford.nlp.pipeline.StanfordCoreNLP - Adding annotator parse\n",
      "[main] INFO edu.stanford.nlp.parser.common.ParserGrammar - Loading parser from serialized file edu/stanford/nlp/models/lexparser/englishPCFG.ser.gz ... \n",
      "done [0.4 sec].\n",
      "[main] INFO edu.stanford.nlp.pipeline.StanfordCoreNLP - Adding annotator lemma\n",
      "[main] INFO edu.stanford.nlp.pipeline.StanfordCoreNLP - Adding annotator ner\n",
      "Loading classifier from edu/stanford/nlp/models/ner/english.all.3class.distsim.crf.ser.gz ... done [1.0 sec].\n",
      "Loading classifier from edu/stanford/nlp/models/ner/english.muc.7class.distsim.crf.ser.gz ... done [0.4 sec].\n",
      "Loading classifier from edu/stanford/nlp/models/ner/english.conll.4class.distsim.crf.ser.gz ... done [1.5 sec].\n",
      "Threads( StanfordCoreNLP ) [12.697 seconds]\n",
      "Error: Could not cache item to /workspace/pycocoevalcap/spice/cache with key:\n",
      "\"system you are a helpful assistant user an image of a damaged car parked on the side of the road assistant the image shows a red car with significant damage to its front fender and tire the tire appears to be flat and there is visible wear or damage to the wheel and surrounding area of the fender the paint on the car 's body is chipped in several places indicating that the vehicle has been involved in an accident or has sustained some form of impact if you encounter such a situation it 's important to ensure your safety first by moving to a safe location if possible and then contacting local authorities or emergency services if necessary additionally report the incident to your insurance company as soon as possible so they can assess the damage\"\n",
      "Caption may be too long\n"
     ]
    },
    {
     "name": "stdout",
     "output_type": "stream",
     "text": [
      "SPICE evaluation took: 21.20 s\n",
      "\n",
      "Prompt 4 Output:\n",
      "system\n",
      "You are a helpful assistant.\n",
      "user\n",
      "You are an insurance claims assessor. Provide a detailed description of the car’s condition.\n",
      "assistant\n",
      "The image shows a red car with significant damage to its front fender and tire area. Here is a detailed assessment of the condition:\n",
      "\n",
      "1. **Fender Damage**:\n",
      "   - The front fender appears to be severely damaged, with visible cracks and dents.\n",
      "   - There is a noticeable gap where the fender has been pushed inward, exposing the inner structure of the vehicle.\n",
      "   - The paint on the fender is chipped in several areas, indicating that the impact was forceful enough to cause both physical damage and paint loss.\n",
      "\n",
      "2. **Tire Condition**:\n",
      "   - The tire is completely flat, as indicated\n",
      "Reference:\n",
      "The vehicle exhibits significant damage, primarily focusing on the wheel and surrounding bodywork. The tire is heavily deteriorated with extensive cracking across the sidewall and appears to be flat. The wheel itself shows signs of rust and corrosion. The car's body panel adjacent to the wheel has substantial rust and corrosion, with areas of missing paint and exposed metal, suggesting long-term neglect or damage.\n",
      "Generated caption: system\n",
      "You are a helpful assistant.\n",
      "user\n",
      "You are an insurance claims assessor. Provide a detailed description of the car’s condition.\n",
      "assistant\n",
      "The image shows a red car with significant damage to its front fender and tire area. Here is a detailed assessment of the condition:\n",
      "\n",
      "1. **Fender Damage**:\n",
      "   - The front fender appears to be severely damaged, with visible cracks and dents.\n",
      "   - There is a noticeable gap where the fender has been pushed inward, exposing the inner structure of the vehicle.\n",
      "   - The paint on the fender is chipped in several areas, indicating that the impact was forceful enough to cause both physical damage and paint loss.\n",
      "\n",
      "2. **Tire Condition**:\n",
      "   - The tire is completely flat, as indicated\n",
      "Generated hypos: {0: ['system\\nYou are a helpful assistant.\\nuser\\nYou are an insurance claims assessor. Provide a detailed description of the car’s condition.\\nassistant\\nThe image shows a red car with significant damage to its front fender and tire area. Here is a detailed assessment of the condition:\\n\\n1. **Fender Damage**:\\n   - The front fender appears to be severely damaged, with visible cracks and dents.\\n   - There is a noticeable gap where the fender has been pushed inward, exposing the inner structure of the vehicle.\\n   - The paint on the fender is chipped in several areas, indicating that the impact was forceful enough to cause both physical damage and paint loss.\\n\\n2. **Tire Condition**:\\n   - The tire is completely flat, as indicated']}\n"
     ]
    },
    {
     "name": "stderr",
     "output_type": "stream",
     "text": [
      "PTBTokenizer tokenized 72 tokens at 2138.28 tokens per second.\n",
      "PTBTokenizer tokenized 141 tokens at 3884.28 tokens per second.\n",
      "Parsing reference captions\n",
      "Parsing test captions\n",
      "Initiating Stanford parsing pipeline\n",
      "[main] INFO edu.stanford.nlp.pipeline.StanfordCoreNLP - Adding annotator tokenize\n",
      "[main] INFO edu.stanford.nlp.pipeline.TokenizerAnnotator - TokenizerAnnotator: No tokenizer type provided. Defaulting to PTBTokenizer.\n",
      "[main] INFO edu.stanford.nlp.pipeline.StanfordCoreNLP - Adding annotator ssplit\n",
      "[main] INFO edu.stanford.nlp.pipeline.StanfordCoreNLP - Adding annotator parse\n",
      "[main] INFO edu.stanford.nlp.parser.common.ParserGrammar - Loading parser from serialized file edu/stanford/nlp/models/lexparser/englishPCFG.ser.gz ... \n",
      "done [0.3 sec].\n",
      "[main] INFO edu.stanford.nlp.pipeline.StanfordCoreNLP - Adding annotator lemma\n",
      "[main] INFO edu.stanford.nlp.pipeline.StanfordCoreNLP - Adding annotator ner\n",
      "Loading classifier from edu/stanford/nlp/models/ner/english.all.3class.distsim.crf.ser.gz ... done [1.0 sec].\n",
      "Loading classifier from edu/stanford/nlp/models/ner/english.muc.7class.distsim.crf.ser.gz ... done [0.4 sec].\n",
      "Loading classifier from edu/stanford/nlp/models/ner/english.conll.4class.distsim.crf.ser.gz ... done [1.6 sec].\n",
      "Threads( StanfordCoreNLP ) [7.834 seconds]\n",
      "Error: Could not cache item to /workspace/pycocoevalcap/spice/cache with key:\n",
      "\"system you are a helpful assistant user you are an insurance claims assessor provide a detailed description of the car 's condition assistant the image shows a red car with significant damage to its front fender and tire area here is a detailed assessment of the condition 1 ** fender damage ** the front fender appears to be severely damaged with visible cracks and dents there is a noticeable gap where the fender has been pushed inward exposing the inner structure of the vehicle the paint on the fender is chipped in several areas indicating that the impact was forceful enough to cause both physical damage and paint loss 2 ** tire condition ** the tire is completely flat as indicated\"\n",
      "Caption may be too long\n"
     ]
    },
    {
     "name": "stdout",
     "output_type": "stream",
     "text": [
      "SPICE evaluation took: 16.43 s\n",
      "\n",
      "Prompt 5 Output:\n",
      "system\n",
      "You are a helpful assistant.\n",
      "user\n",
      "This <part_1> of the car has <damage_type_1>. The severity appears to be <severity_1>. Additional notes: <text_1>.\n",
      "assistant\n",
      "The part of the car shown in the image is the wheel well, and it appears to have significant damage. The damage type seems to be a large dent or deformation in the fender area, which could be due to an impact or collision. The severity of the damage looks quite severe as the dent extends into the wheel well and affects the structural integrity of the fender. Additional notes include that the paint on the fender is chipped in several areas, indicating previous damage or wear. The wheel itself also shows signs of wear, with visible rust on the bolts and some wear on the tire tread.\n",
      "Reference:\n",
      "The vehicle exhibits significant damage, primarily focusing on the wheel and surrounding bodywork. The tire is heavily deteriorated with extensive cracking across the sidewall and appears to be flat. The wheel itself shows signs of rust and corrosion. The car's body panel adjacent to the wheel has substantial rust and corrosion, with areas of missing paint and exposed metal, suggesting long-term neglect or damage.\n",
      "Generated caption: system\n",
      "You are a helpful assistant.\n",
      "user\n",
      "This <part_1> of the car has <damage_type_1>. The severity appears to be <severity_1>. Additional notes: <text_1>.\n",
      "assistant\n",
      "The part of the car shown in the image is the wheel well, and it appears to have significant damage. The damage type seems to be a large dent or deformation in the fender area, which could be due to an impact or collision. The severity of the damage looks quite severe as the dent extends into the wheel well and affects the structural integrity of the fender. Additional notes include that the paint on the fender is chipped in several areas, indicating previous damage or wear. The wheel itself also shows signs of wear, with visible rust on the bolts and some wear on the tire tread.\n",
      "Generated hypos: {0: ['system\\nYou are a helpful assistant.\\nuser\\nThis <part_1> of the car has <damage_type_1>. The severity appears to be <severity_1>. Additional notes: <text_1>.\\nassistant\\nThe part of the car shown in the image is the wheel well, and it appears to have significant damage. The damage type seems to be a large dent or deformation in the fender area, which could be due to an impact or collision. The severity of the damage looks quite severe as the dent extends into the wheel well and affects the structural integrity of the fender. Additional notes include that the paint on the fender is chipped in several areas, indicating previous damage or wear. The wheel itself also shows signs of wear, with visible rust on the bolts and some wear on the tire tread.']}\n"
     ]
    },
    {
     "name": "stderr",
     "output_type": "stream",
     "text": [
      "PTBTokenizer tokenized 72 tokens at 2175.47 tokens per second.\n",
      "PTBTokenizer tokenized 146 tokens at 3839.24 tokens per second.\n",
      "Parsing reference captions\n",
      "Parsing test captions\n",
      "Initiating Stanford parsing pipeline\n",
      "[main] INFO edu.stanford.nlp.pipeline.StanfordCoreNLP - Adding annotator tokenize\n",
      "[main] INFO edu.stanford.nlp.pipeline.TokenizerAnnotator - TokenizerAnnotator: No tokenizer type provided. Defaulting to PTBTokenizer.\n",
      "[main] INFO edu.stanford.nlp.pipeline.StanfordCoreNLP - Adding annotator ssplit\n",
      "[main] INFO edu.stanford.nlp.pipeline.StanfordCoreNLP - Adding annotator parse\n",
      "[main] INFO edu.stanford.nlp.parser.common.ParserGrammar - Loading parser from serialized file edu/stanford/nlp/models/lexparser/englishPCFG.ser.gz ... \n",
      "done [0.3 sec].\n",
      "[main] INFO edu.stanford.nlp.pipeline.StanfordCoreNLP - Adding annotator lemma\n",
      "[main] INFO edu.stanford.nlp.pipeline.StanfordCoreNLP - Adding annotator ner\n",
      "Loading classifier from edu/stanford/nlp/models/ner/english.all.3class.distsim.crf.ser.gz ... done [1.0 sec].\n",
      "Loading classifier from edu/stanford/nlp/models/ner/english.muc.7class.distsim.crf.ser.gz ... done [0.4 sec].\n",
      "Loading classifier from edu/stanford/nlp/models/ner/english.conll.4class.distsim.crf.ser.gz ... done [1.6 sec].\n",
      "Threads( StanfordCoreNLP ) [9.236 seconds]\n",
      "Error: Could not cache item to /workspace/pycocoevalcap/spice/cache with key:\n",
      "\"system you are a helpful assistant user this <part_1> of the car has <damage_type_1> the severity appears to be <severity_1> additional notes <text_1> assistant the part of the car shown in the image is the wheel well and it appears to have significant damage the damage type seems to be a large dent or deformation in the fender area which could be due to an impact or collision the severity of the damage looks quite severe as the dent extends into the wheel well and affects the structural integrity of the fender additional notes include that the paint on the fender is chipped in several areas indicating previous damage or wear the wheel itself also shows signs of wear with visible rust on the bolts and some wear on the tire tread\"\n",
      "Caption may be too long\n"
     ]
    },
    {
     "name": "stdout",
     "output_type": "stream",
     "text": [
      "SPICE evaluation took: 18.53 s\n",
      "\n",
      "Prompt 6 Output:\n",
      "system\n",
      "You are a helpful assistant.\n",
      "user\n",
      "Describe using format - Damage Type: ___; Affected Part: ___; Severity: ___; Notes: ___\n",
      "assistant\n",
      "Damage Type: Puncture; Affected Part: Tire; Severity: Moderate; Notes: The tire appears to have a significant puncture, likely causing it to be flat and unable to hold air. There is visible damage to the surrounding area of the wheel well, indicating that the puncture may have caused some internal damage as well.\n",
      "Reference:\n",
      "The vehicle exhibits significant damage, primarily focusing on the wheel and surrounding bodywork. The tire is heavily deteriorated with extensive cracking across the sidewall and appears to be flat. The wheel itself shows signs of rust and corrosion. The car's body panel adjacent to the wheel has substantial rust and corrosion, with areas of missing paint and exposed metal, suggesting long-term neglect or damage.\n",
      "Generated caption: system\n",
      "You are a helpful assistant.\n",
      "user\n",
      "Describe using format - Damage Type: ___; Affected Part: ___; Severity: ___; Notes: ___\n",
      "assistant\n",
      "Damage Type: Puncture; Affected Part: Tire; Severity: Moderate; Notes: The tire appears to have a significant puncture, likely causing it to be flat and unable to hold air. There is visible damage to the surrounding area of the wheel well, indicating that the puncture may have caused some internal damage as well.\n",
      "Generated hypos: {0: ['system\\nYou are a helpful assistant.\\nuser\\nDescribe using format - Damage Type: ___; Affected Part: ___; Severity: ___; Notes: ___\\nassistant\\nDamage Type: Puncture; Affected Part: Tire; Severity: Moderate; Notes: The tire appears to have a significant puncture, likely causing it to be flat and unable to hold air. There is visible damage to the surrounding area of the wheel well, indicating that the puncture may have caused some internal damage as well.']}\n"
     ]
    },
    {
     "name": "stderr",
     "output_type": "stream",
     "text": [
      "PTBTokenizer tokenized 72 tokens at 2182.66 tokens per second.\n",
      "PTBTokenizer tokenized 93 tokens at 2730.03 tokens per second.\n",
      "Parsing reference captions\n",
      "Parsing test captions\n",
      "Initiating Stanford parsing pipeline\n",
      "[main] INFO edu.stanford.nlp.pipeline.StanfordCoreNLP - Adding annotator tokenize\n",
      "[main] INFO edu.stanford.nlp.pipeline.TokenizerAnnotator - TokenizerAnnotator: No tokenizer type provided. Defaulting to PTBTokenizer.\n",
      "[main] INFO edu.stanford.nlp.pipeline.StanfordCoreNLP - Adding annotator ssplit\n",
      "[main] INFO edu.stanford.nlp.pipeline.StanfordCoreNLP - Adding annotator parse\n",
      "[main] INFO edu.stanford.nlp.parser.common.ParserGrammar - Loading parser from serialized file edu/stanford/nlp/models/lexparser/englishPCFG.ser.gz ... \n",
      "done [0.4 sec].\n",
      "[main] INFO edu.stanford.nlp.pipeline.StanfordCoreNLP - Adding annotator lemma\n",
      "[main] INFO edu.stanford.nlp.pipeline.StanfordCoreNLP - Adding annotator ner\n",
      "Loading classifier from edu/stanford/nlp/models/ner/english.all.3class.distsim.crf.ser.gz ... done [1.0 sec].\n",
      "Loading classifier from edu/stanford/nlp/models/ner/english.muc.7class.distsim.crf.ser.gz ... done [0.4 sec].\n",
      "Loading classifier from edu/stanford/nlp/models/ner/english.conll.4class.distsim.crf.ser.gz ... done [1.3 sec].\n",
      "Threads( StanfordCoreNLP ) [3.155 seconds]\n"
     ]
    },
    {
     "name": "stdout",
     "output_type": "stream",
     "text": [
      "SPICE evaluation took: 9.417 s\n"
     ]
    }
   ],
   "source": [
    "all_scores = []\n",
    "\n",
    "for i, gen in enumerate(inference_outputs):\n",
    "    print(f\"\\nPrompt {i+1} Output:\\n{gen}\\nReference:\\n{ground_truths}\")\n",
    "    scores = evaluate_all_metrics(ground_truths, gen)\n",
    "    all_scores.append(scores)"
   ]
  },
  {
   "cell_type": "code",
   "execution_count": 38,
   "id": "093e00a7-2a5b-4ee1-ba53-4f463205070f",
   "metadata": {},
   "outputs": [
    {
     "data": {
      "text/html": [
       "<div>\n",
       "<style scoped>\n",
       "    .dataframe tbody tr th:only-of-type {\n",
       "        vertical-align: middle;\n",
       "    }\n",
       "\n",
       "    .dataframe tbody tr th {\n",
       "        vertical-align: top;\n",
       "    }\n",
       "\n",
       "    .dataframe thead th {\n",
       "        text-align: right;\n",
       "    }\n",
       "</style>\n",
       "<table border=\"1\" class=\"dataframe\">\n",
       "  <thead>\n",
       "    <tr style=\"text-align: right;\">\n",
       "      <th></th>\n",
       "      <th>cosine_similarity</th>\n",
       "      <th>CIDEr</th>\n",
       "      <th>SPICE</th>\n",
       "    </tr>\n",
       "  </thead>\n",
       "  <tbody>\n",
       "    <tr>\n",
       "      <th>Prompt 1</th>\n",
       "      <td>0.5825</td>\n",
       "      <td>0.0</td>\n",
       "      <td>0.1867</td>\n",
       "    </tr>\n",
       "    <tr>\n",
       "      <th>Prompt 2</th>\n",
       "      <td>0.7303</td>\n",
       "      <td>0.0</td>\n",
       "      <td>0.2708</td>\n",
       "    </tr>\n",
       "    <tr>\n",
       "      <th>Prompt 3</th>\n",
       "      <td>0.5984</td>\n",
       "      <td>0.0</td>\n",
       "      <td>0.1782</td>\n",
       "    </tr>\n",
       "    <tr>\n",
       "      <th>Prompt 4</th>\n",
       "      <td>0.6295</td>\n",
       "      <td>0.0</td>\n",
       "      <td>0.1739</td>\n",
       "    </tr>\n",
       "    <tr>\n",
       "      <th>Prompt 5</th>\n",
       "      <td>0.8026</td>\n",
       "      <td>0.0</td>\n",
       "      <td>0.1800</td>\n",
       "    </tr>\n",
       "    <tr>\n",
       "      <th>Prompt 6</th>\n",
       "      <td>0.5757</td>\n",
       "      <td>0.0</td>\n",
       "      <td>0.1127</td>\n",
       "    </tr>\n",
       "  </tbody>\n",
       "</table>\n",
       "</div>"
      ],
      "text/plain": [
       "          cosine_similarity  CIDEr   SPICE\n",
       "Prompt 1             0.5825    0.0  0.1867\n",
       "Prompt 2             0.7303    0.0  0.2708\n",
       "Prompt 3             0.5984    0.0  0.1782\n",
       "Prompt 4             0.6295    0.0  0.1739\n",
       "Prompt 5             0.8026    0.0  0.1800\n",
       "Prompt 6             0.5757    0.0  0.1127"
      ]
     },
     "execution_count": 38,
     "metadata": {},
     "output_type": "execute_result"
    }
   ],
   "source": [
    "score_df = pd.DataFrame(all_scores, index=[f\"Prompt {i+1}\" for i in range(len(inference_outputs))])\n",
    "score_df"
   ]
  },
  {
   "cell_type": "code",
   "execution_count": 48,
   "id": "c88d3c1d-92d1-41d0-9b3d-f1e9c36cea7c",
   "metadata": {},
   "outputs": [],
   "source": [
    "from openpyxl import Workbook, load_workbook\n",
    "from openpyxl.styles import Alignment\n",
    "from openpyxl.drawing.image import Image as ExcelImage\n",
    "from openpyxl.utils import get_column_letter\n",
    "import os\n",
    "\n",
    "def log_prompt_metrics_to_excel(\n",
    "    filepath: str,\n",
    "    model_name: str,\n",
    "    image_number: str,\n",
    "    original_caption: str,\n",
    "    image_path: str,\n",
    "    prompt_outputs: list,\n",
    "    scores: list,\n",
    "    vram_usages: list,\n",
    "    inference_times: list\n",
    "):\n",
    "    if not os.path.exists(filepath):\n",
    "        wb = Workbook()\n",
    "        ws = wb.active\n",
    "        ws.title = \"Prompt Metrics\"\n",
    "        headers = [\n",
    "            \"Model\", \"Image Number\", \"Image\", \"Original Caption\",\n",
    "            \"prompt\", \"output\", \"cosine_similarity\", \"CIDEr\", \"SPICE\", \"time\", \"vram\"\n",
    "        ]\n",
    "        ws.append(headers)\n",
    "    else:\n",
    "        wb = load_workbook(filepath)\n",
    "        ws = wb[\"Prompt Metrics\"]\n",
    "\n",
    "    start_row = ws.max_row + 1\n",
    "    end_row = start_row + len(prompt_outputs) - 1\n",
    "\n",
    "    # Write prompt rows\n",
    "    for i in range(len(prompt_outputs)):\n",
    "        row_idx = start_row + i\n",
    "        ws.cell(row=row_idx, column=5, value=f\"output_{i+1}\")\n",
    "        ws.cell(row=row_idx, column=6, value=prompt_outputs[i])\n",
    "        ws.cell(row=row_idx, column=7, value=scores[i].get(\"cosine_similarity\"))\n",
    "        ws.cell(row=row_idx, column=8, value=scores[i].get(\"CIDEr\"))\n",
    "        ws.cell(row=row_idx, column=9, value=scores[i].get(\"SPICE\"))\n",
    "        ws.cell(row=row_idx, column=10, value=inference_times[i])\n",
    "        ws.cell(row=row_idx, column=11, value=vram_usages[i])\n",
    "        ws.cell(row=row_idx, column=6).alignment = Alignment(wrap_text=True, vertical=\"top\")\n",
    "\n",
    "    # Merge vertically for columns 1–4\n",
    "    merge_cols = {\n",
    "        1: model_name,\n",
    "        2: image_number,\n",
    "        4: original_caption,\n",
    "    }\n",
    "\n",
    "    for col, value in merge_cols.items():\n",
    "        ws.merge_cells(start_row=start_row, start_column=col, end_row=end_row, end_column=col)\n",
    "        cell = ws.cell(row=start_row, column=col)\n",
    "        cell.value = value\n",
    "        cell.alignment = Alignment(wrap_text=True, vertical=\"top\")\n",
    "\n",
    "    # Column 3 (Image): insert image and merge\n",
    "    ws.merge_cells(start_row=start_row, start_column=3, end_row=end_row, end_column=3)\n",
    "    if os.path.exists(image_path):\n",
    "        try:\n",
    "            img = ExcelImage(image_path)\n",
    "            img.width = 150\n",
    "            img.height = 150\n",
    "            ws.add_image(img, f\"C{start_row}\")\n",
    "        except Exception as e:\n",
    "            print(f\"[ERROR] Could not insert image: {e}\")\n",
    "\n",
    "    # Auto-width adjustment\n",
    "    for col in range(1, 12):\n",
    "        col_letter = get_column_letter(col)\n",
    "        ws.column_dimensions[col_letter].width = 30 if col in [4, 6] else 15\n",
    "\n",
    "    wb.save(filepath)\n",
    "    print(f\"[SAVED] Metrics logged with merged vertical cells to {filepath}\")"
   ]
  },
  {
   "cell_type": "code",
   "execution_count": 49,
   "id": "c6f9172b-7b2e-49a6-a6bc-d48c270b15e5",
   "metadata": {},
   "outputs": [
    {
     "name": "stdout",
     "output_type": "stream",
     "text": [
      "[SAVED] Metrics logged with merged vertical cells to Ablation_Prompt_Results.xlsx\n"
     ]
    }
   ],
   "source": [
    "log_prompt_metrics_to_excel(\n",
    "    filepath=\"Ablation_Prompt_Results.xlsx\",\n",
    "    model_name=\"unsloth/Qwen2.5-VL-7B-Instruct-bnb-4bit\",\n",
    "    image_number=\"000001.jpg\",\n",
    "    original_caption=df.iloc[0][\"caption\"],\n",
    "    image_path=os.path.join(\"/workspace/data/filtered_images\", df.iloc[0][\"filename\"]),\n",
    "    prompt_outputs=inference_outputs,\n",
    "    scores=all_scores,\n",
    "    vram_usages=vram_usages,\n",
    "    inference_times=inference_times\n",
    ")"
   ]
  },
  {
   "cell_type": "code",
   "execution_count": null,
   "id": "dd7d5bfd-a9fc-4e36-89d6-238542869d9c",
   "metadata": {},
   "outputs": [],
   "source": []
  }
 ],
 "metadata": {
  "kernelspec": {
   "display_name": "Python (venv)",
   "language": "python",
   "name": "venv"
  },
  "language_info": {
   "codemirror_mode": {
    "name": "ipython",
    "version": 3
   },
   "file_extension": ".py",
   "mimetype": "text/x-python",
   "name": "python",
   "nbconvert_exporter": "python",
   "pygments_lexer": "ipython3",
   "version": "3.10.12"
  }
 },
 "nbformat": 4,
 "nbformat_minor": 5
}
